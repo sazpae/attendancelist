{
  "nbformat": 4,
  "nbformat_minor": 0,
  "metadata": {
    "colab": {
      "provenance": [],
      "authorship_tag": "ABX9TyMhZQun3hL5CeBPtljMbUb7",
      "include_colab_link": true
    },
    "kernelspec": {
      "name": "python3",
      "display_name": "Python 3"
    },
    "language_info": {
      "name": "python"
    }
  },
  "cells": [
    {
      "cell_type": "markdown",
      "metadata": {
        "id": "view-in-github",
        "colab_type": "text"
      },
      "source": [
        "<a href=\"https://colab.research.google.com/github/sazpae/attendancelist/blob/main/Untitled0.ipynb\" target=\"_parent\"><img src=\"https://colab.research.google.com/assets/colab-badge.svg\" alt=\"Open In Colab\"/></a>"
      ]
    },
    {
      "cell_type": "code",
      "execution_count": 20,
      "metadata": {
        "colab": {
          "base_uri": "https://localhost:8080/"
        },
        "id": "93_ejmNNj02G",
        "outputId": "ba646b06-8d33-472a-b3f9-fab794cf32f6"
      },
      "outputs": [
        {
          "output_type": "stream",
          "name": "stdout",
          "text": [
            "Looking in indexes: https://pypi.org/simple, https://us-python.pkg.dev/colab-wheels/public/simple/\n",
            "Requirement already satisfied: chatterbot==1.0.4 in /usr/local/lib/python3.8/dist-packages (1.0.4)\n",
            "Requirement already satisfied: pymongo<4.0,>=3.3 in /usr/local/lib/python3.8/dist-packages (from chatterbot==1.0.4) (3.13.0)\n",
            "Requirement already satisfied: python-dateutil<2.8,>=2.7 in /usr/local/lib/python3.8/dist-packages (from chatterbot==1.0.4) (2.7.5)\n",
            "Requirement already satisfied: nltk<4.0,>=3.2 in /usr/local/lib/python3.8/dist-packages (from chatterbot==1.0.4) (3.7)\n",
            "Requirement already satisfied: mathparse<0.2,>=0.1 in /usr/local/lib/python3.8/dist-packages (from chatterbot==1.0.4) (0.1.2)\n",
            "Requirement already satisfied: pint>=0.8.1 in /usr/local/lib/python3.8/dist-packages (from chatterbot==1.0.4) (0.20.1)\n",
            "Requirement already satisfied: chatterbot-corpus<1.3,>=1.2 in /usr/local/lib/python3.8/dist-packages (from chatterbot==1.0.4) (1.2.0)\n",
            "Requirement already satisfied: sqlalchemy<1.3,>=1.2 in /usr/local/lib/python3.8/dist-packages (from chatterbot==1.0.4) (1.2.19)\n",
            "Requirement already satisfied: PyYAML<4.0,>=3.12 in /usr/local/lib/python3.8/dist-packages (from chatterbot-corpus<1.3,>=1.2->chatterbot==1.0.4) (3.13)\n",
            "Requirement already satisfied: regex>=2021.8.3 in /usr/local/lib/python3.8/dist-packages (from nltk<4.0,>=3.2->chatterbot==1.0.4) (2022.6.2)\n",
            "Requirement already satisfied: joblib in /usr/local/lib/python3.8/dist-packages (from nltk<4.0,>=3.2->chatterbot==1.0.4) (1.2.0)\n",
            "Requirement already satisfied: click in /usr/local/lib/python3.8/dist-packages (from nltk<4.0,>=3.2->chatterbot==1.0.4) (7.1.2)\n",
            "Requirement already satisfied: tqdm in /usr/local/lib/python3.8/dist-packages (from nltk<4.0,>=3.2->chatterbot==1.0.4) (4.64.1)\n",
            "Requirement already satisfied: six>=1.5 in /usr/local/lib/python3.8/dist-packages (from python-dateutil<2.8,>=2.7->chatterbot==1.0.4) (1.15.0)\n"
          ]
        }
      ],
      "source": [
        "\n",
        "pip install chatterbot==1.0.4"
      ]
    },
    {
      "cell_type": "code",
      "source": [
        "from chatterbot import ChatBot\n",
        "from chatterbot.trainers import ListTrainer\n",
        "\n",
        "chatbot = ChatBot(\"ChatBot\")\n",
        "trainer = ListTrainer(chatbot)\n",
        "\n",
        "trainer.train([\n",
        "    \"How are you?\",\n",
        "    \"I am good.\",\n",
        "    \"That is good to hear.\",\n",
        "    \"Thank you\",\n",
        "    \"You are welcome.\",\n",
        "])\n",
        "\n",
        "user_input = input(\"You:\")\n",
        "response = chatbot.get_response(user_input)\n",
        "print(\"Chatbot: \",response)\n",
        "while True:\n",
        "    user_input = input(\"You:\")\n",
        "    if user_input.strip().lower()=='bye':\n",
        "      print(\"Chatbot: Goodbye!!\")\n",
        "      break\n",
        "    response = chatbot.get_response(user_input)\n",
        "    print(\"Chatbot: \",response)\n"
      ],
      "metadata": {
        "id": "3huHOFhgj4Wt"
      },
      "execution_count": 19,
      "outputs": []
    },
    {
      "cell_type": "code",
      "source": [
        "import pandas as pd\n",
        "from sklearn.feature_extraction.text import TfidfVectorizer\n",
        "from sklearn.linear_model import LogisticRegression\n",
        "from sklearn.metrics import classification_report, confusion_matrix\n",
        "\n",
        "# Load dataset into a pandas dataframe\n",
        "data = pd.read_csv(\"datasets.csv\")\n",
        "\n",
        "# Split the dataset into training and test sets\n",
        "train_data = data.sample(frac=0.8, random_state=1)\n",
        "test_data = data.drop(train_data.index)\n",
        "\n",
        "\n",
        "# Extract the text data and labels from the dataframe\n",
        "train_text = train_data['text'].values\n",
        "train_labels = train_data['label'].values\n",
        "test_text = test_data['text'].values\n",
        "test_labels = test_data['label'].values\n",
        "\n",
        "# Use a TfidfVectorizer to convert the text data into numerical features\n",
        "vectorizer = TfidfVectorizer()\n",
        "train_features = vectorizer.fit_transform(train_text)\n",
        "test_features = vectorizer.transform(test_text)\n",
        "\n",
        "# Train a Logistic Regression model on the features\n",
        "model = LogisticRegression()\n",
        "model.fit(train_features, train_labels)\n",
        "\n",
        "# Evaluate the model on the test set\n",
        "predictions = model.predict(test_features)\n",
        "print(classification_report(test_labels, predictions))\n"
      ],
      "metadata": {
        "colab": {
          "base_uri": "https://localhost:8080/"
        },
        "id": "R_PnppwT2hiK",
        "outputId": "01be428f-583c-4ffe-af94-5f4c059412c0"
      },
      "execution_count": 51,
      "outputs": [
        {
          "output_type": "stream",
          "name": "stdout",
          "text": [
            "              precision    recall  f1-score   support\n",
            "\n",
            "   depressed       1.00      1.00      1.00         3\n",
            "\n",
            "    accuracy                           1.00         3\n",
            "   macro avg       1.00      1.00      1.00         3\n",
            "weighted avg       1.00      1.00      1.00         3\n",
            "\n"
          ]
        }
      ]
    },
    {
      "cell_type": "code",
      "source": [
        "import nltk\n",
        "from nltk.tokenize import word_tokenize\n",
        "from nltk.corpus import stopwords\n",
        "from nltk.stem import PorterStemmer\n",
        "nltk.download('punkt')\n",
        "nltk.download('stopwords')\n",
        "import re\n",
        "\n",
        "stop_words = set(stopwords.words(\"english\"))\n",
        "stemmer = PorterStemmer()\n",
        "\n",
        "def preprocess_input(input_text):\n",
        "    input_text = input_text.lower()\n",
        "    input_text = re.sub(r'[^\\w\\s]','',input_text)\n",
        "    words = word_tokenize(input_text)\n",
        "    words = [word for word in words if word not in stop_words]\n",
        "    words = [stemmer.stem(word) for word in words]\n",
        "    return \" \".join(words)\n"
      ],
      "metadata": {
        "colab": {
          "base_uri": "https://localhost:8080/"
        },
        "id": "-6-zkHdDIO_J",
        "outputId": "3a763e80-2041-484a-9e0e-c58eaedc5717"
      },
      "execution_count": 52,
      "outputs": [
        {
          "output_type": "stream",
          "name": "stderr",
          "text": [
            "[nltk_data] Downloading package punkt to /root/nltk_data...\n",
            "[nltk_data]   Package punkt is already up-to-date!\n",
            "[nltk_data] Downloading package stopwords to /root/nltk_data...\n",
            "[nltk_data]   Package stopwords is already up-to-date!\n"
          ]
        }
      ]
    },
    {
      "cell_type": "code",
      "source": [
        "while True:\n",
        "    user_input = input(\"You: \")\n",
        "    if user_input == \"bye\":\n",
        "        break\n",
        "    # Preprocess the user's input\n",
        "    user_input = preprocess_input(user_input)\n",
        "    # Convert the user's input into numerical features\n",
        "    user_input_features = vectorizer.transform([user_input])\n",
        "    # Use the model to classify the user's input\n",
        "    prediction = model.predict(user_input_features)\n",
        "    # Check the prediction and return the appropriate response\n",
        "    if prediction == \"suicide\":\n",
        "        response = \"I'm sorry to hear that you're feeling depressed. Is there anything I can do to help?\"\n",
        "    else:\n",
        "        response = \"I'm glad to hear that you're feeling good! How can I assist you today?\"\n",
        "    print(\"Chatbot: \",response)"
      ],
      "metadata": {
        "colab": {
          "base_uri": "https://localhost:8080/"
        },
        "id": "pMhFVB4r7ZrR",
        "outputId": "acc30b2c-b911-4586-a08c-603da888cdeb"
      },
      "execution_count": 55,
      "outputs": [
        {
          "name": "stdout",
          "output_type": "stream",
          "text": [
            "You: bye\n"
          ]
        }
      ]
    }
  ]
}